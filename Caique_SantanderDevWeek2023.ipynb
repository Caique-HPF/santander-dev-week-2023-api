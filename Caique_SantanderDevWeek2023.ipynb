{
  "nbformat": 4,
  "nbformat_minor": 0,
  "metadata": {
    "colab": {
      "provenance": [],
      "collapsed_sections": [
        "kNuP0SDUZMBY"
      ]
    },
    "kernelspec": {
      "name": "python3",
      "display_name": "Python 3"
    },
    "language_info": {
      "name": "python"
    }
  },
  "cells": [
    {
      "cell_type": "markdown",
      "source": [
        "# Santander Dev Week 2023 (ETL com Python)"
      ],
      "metadata": {
        "id": "BPJQsTCULaC-"
      }
    },
    {
      "cell_type": "markdown",
      "source": [
        "**Contexto:** Você é um cientista de dados no Santander e recebeu a tarefa de envolver seus clientes de maneira mais personalizada. Seu objetivo é usar o poder da IA Generativa para criar mensagens de marketing personalizadas que serão entregues a cada cliente.\n",
        "\n",
        "**Condições do Problema:**\n",
        "\n",
        "1. Você recebeu uma planilha simples, em formato CSV ('SDW2023.csv'), com uma lista de IDs de usuário do banco:\n",
        "  ```\n",
        "  UserID\n",
        "  1\n",
        "  2\n",
        "  3\n",
        "  4\n",
        "  5\n",
        "  ```\n",
        "2. Seu trabalho é consumir o endpoint `GET https://sdw-2023-prd.up.railway.app/users/{id}` (API da Santander Dev Week 2023) para obter os dados de cada cliente.\n",
        "3. Depois de obter os dados dos clientes, você vai usar a API do ChatGPT (OpenAI) para gerar uma mensagem de marketing personalizada para cada cliente. Essa mensagem deve enfatizar a importância dos investimentos.\n",
        "4. Uma vez que a mensagem para cada cliente esteja pronta, você vai enviar essas informações de volta para a API, atualizando a lista de \"news\" de cada usuário usando o endpoint `PUT https://sdw-2023-prd.up.railway.app/users/{id}`.\n",
        "\n"
      ],
      "metadata": {
        "id": "k5fA5OrXt1a3"
      }
    },
    {
      "cell_type": "code",
      "source": [
        "# Utilize sua própria URL se quiser ;)\n",
        "# Repositório da API: https://github.com/Caique-HPF/santander-dev-week-2023-api.git\n",
        "sdw2023_api_url = 'https://sdw-2023-prd.up.railway.app'"
      ],
      "metadata": {
        "id": "FKqLC_CWoYqR"
      },
      "execution_count": 1,
      "outputs": []
    },
    {
      "cell_type": "markdown",
      "source": [
        "## **E**xtract\n",
        "\n",
        "Extraia a lista de IDs de usuário a partir do arquivo CSV. Para cada ID, faça uma requisição GET para obter os dados do usuário correspondente."
      ],
      "metadata": {
        "id": "9dfI-o7gLRq9"
      }
    },
    {
      "cell_type": "code",
      "execution_count": 2,
      "metadata": {
        "id": "NYydpX_GLRCB",
        "outputId": "cf5fede3-cbec-4c55-8856-ebf1aebe1053",
        "colab": {
          "base_uri": "https://localhost:8080/"
        }
      },
      "outputs": [
        {
          "output_type": "stream",
          "name": "stdout",
          "text": [
            "[3379, 3380, 3381]\n"
          ]
        }
      ],
      "source": [
        "import pandas as pd\n",
        "\n",
        "df = pd.read_csv('SDW2023.csv')\n",
        "user_ids = df['UserID'].tolist()\n",
        "print(user_ids)"
      ]
    },
    {
      "cell_type": "code",
      "source": [
        "import requests\n",
        "import json\n",
        "\n",
        "def get_user(id):\n",
        "  response = requests.get(f'{sdw2023_api_url}/users/{id}')\n",
        "  return response.json() if response.status_code == 200 else None\n",
        "\n",
        "users = [user for id in user_ids if (user := get_user(id)) is not None]\n",
        "print(json.dumps(users, indent=2))"
      ],
      "metadata": {
        "id": "F5XOuCZGSTGw",
        "colab": {
          "base_uri": "https://localhost:8080/"
        },
        "outputId": "137d8165-0354-42d9-bea5-4374c853376e"
      },
      "execution_count": 3,
      "outputs": [
        {
          "output_type": "stream",
          "name": "stdout",
          "text": [
            "[\n",
            "  {\n",
            "    \"id\": 3379,\n",
            "    \"name\": \"Caique\",\n",
            "    \"account\": {\n",
            "      \"id\": 3594,\n",
            "      \"number\": \"54789-1\",\n",
            "      \"agency\": \"0020\",\n",
            "      \"balance\": 0.0,\n",
            "      \"limit\": 500.0\n",
            "    },\n",
            "    \"card\": {\n",
            "      \"id\": 3275,\n",
            "      \"number\": \"4321 1234 1234 1111\",\n",
            "      \"limit\": 1000.0\n",
            "    },\n",
            "    \"features\": [],\n",
            "    \"news\": []\n",
            "  },\n",
            "  {\n",
            "    \"id\": 3380,\n",
            "    \"name\": \"Kerolin\",\n",
            "    \"account\": {\n",
            "      \"id\": 3595,\n",
            "      \"number\": \"67542-1\",\n",
            "      \"agency\": \"0020\",\n",
            "      \"balance\": 0.0,\n",
            "      \"limit\": 500.0\n",
            "    },\n",
            "    \"card\": {\n",
            "      \"id\": 3276,\n",
            "      \"number\": \"4321 1234 1234 2222\",\n",
            "      \"limit\": 1000.0\n",
            "    },\n",
            "    \"features\": [],\n",
            "    \"news\": []\n",
            "  },\n",
            "  {\n",
            "    \"id\": 3381,\n",
            "    \"name\": \"Denner\",\n",
            "    \"account\": {\n",
            "      \"id\": 3596,\n",
            "      \"number\": \"67545-1\",\n",
            "      \"agency\": \"0020\",\n",
            "      \"balance\": 0.0,\n",
            "      \"limit\": 500.0\n",
            "    },\n",
            "    \"card\": {\n",
            "      \"id\": 3277,\n",
            "      \"number\": \"4321 1234 1234 3333\",\n",
            "      \"limit\": 1000.0\n",
            "    },\n",
            "    \"features\": [],\n",
            "    \"news\": []\n",
            "  }\n",
            "]\n"
          ]
        }
      ]
    },
    {
      "cell_type": "markdown",
      "source": [
        "## **T**ransform\n",
        "\n",
        "Foi utilizado um arquivo em TXT gerando mensagens automáticas\n"
      ],
      "metadata": {
        "id": "cWoqInB4TF1x"
      }
    },
    {
      "cell_type": "code",
      "source": [
        "# como não tenho mais token no ChatGPT, criei um arquivo para as mensagens automática\n",
        "\n",
        "import random\n",
        "\n",
        "with open ('textoAutomaticos.txt', 'r') as documento:\n",
        "  mensagens = documento.readlines()\n",
        ""
      ],
      "metadata": {
        "id": "sUB1doiDTX3y"
      },
      "execution_count": 17,
      "outputs": []
    },
    {
      "cell_type": "code",
      "source": [
        "from IPython.utils import text\n",
        "def generate_ai_news(user):\n",
        "\n",
        "  mensagem = random.choice(mensagens).strip()\n",
        "  text = (f\"Olá {user['name']}, {mensagem}\")\n",
        "  return text\n",
        "\n",
        "for user in users:\n",
        "  news = generate_ai_news(user)\n",
        "  print(news)\n",
        "  user['news'].append({\n",
        "      \"icon\": \"https://digitalinnovationone.github.io/santander-dev-week-2023-api/icons/credit.svg\",\n",
        "      \"description\": news\n",
        "  })"
      ],
      "metadata": {
        "id": "n1w78kNxTrZY",
        "colab": {
          "base_uri": "https://localhost:8080/"
        },
        "outputId": "01d59a69-6af8-42d5-edbd-dff46d9a1cc6"
      },
      "execution_count": 18,
      "outputs": [
        {
          "output_type": "stream",
          "name": "stdout",
          "text": [
            "Olá Caique, O futuro é incerto, mas seus investimentos podem torná-lo mais seguro. Comece a investir hoje para construir um amanhã mais sólido!\n",
            "Olá Kerolin, Apenas economizar não é suficiente para alcançar seus objetivos financeiros. Investir é o caminho para fazê-los crescer.\n",
            "Olá Denner, Lembre-se, o tempo está do seu lado quando se trata de investir. Quanto mais cedo você começar, mais tempo seu dinheiro terá para crescer. Não hesite!\n"
          ]
        }
      ]
    },
    {
      "cell_type": "markdown",
      "source": [
        "## **L**oad\n",
        "\n",
        "Atualize a lista de \"news\" de cada usuário na API com a nova mensagem gerada."
      ],
      "metadata": {
        "id": "kNuP0SDUZMBY"
      }
    },
    {
      "cell_type": "code",
      "source": [
        "def update_user(user):\n",
        "  response = requests.put(f\"{sdw2023_api_url}/users/{user['id']}\", json=user)\n",
        "  return True if response.status_code == 200 else False\n",
        "\n",
        "for user in users:\n",
        "  success = update_user(user)\n",
        "  print(f\"User {user['name']} updated? {success}!\")"
      ],
      "metadata": {
        "id": "YefWfYBoZMN2",
        "colab": {
          "base_uri": "https://localhost:8080/"
        },
        "outputId": "33254c3f-2f3f-4435-df4a-6315f10f1407"
      },
      "execution_count": 19,
      "outputs": [
        {
          "output_type": "stream",
          "name": "stdout",
          "text": [
            "User Caique updated? True!\n",
            "User Kerolin updated? True!\n",
            "User Denner updated? True!\n"
          ]
        }
      ]
    }
  ]
}